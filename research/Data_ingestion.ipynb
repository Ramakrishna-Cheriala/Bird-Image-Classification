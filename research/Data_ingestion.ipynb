{
 "cells": [
  {
   "cell_type": "code",
   "execution_count": 1,
   "metadata": {},
   "outputs": [],
   "source": [
    "import os"
   ]
  },
  {
   "cell_type": "code",
   "execution_count": 2,
   "metadata": {},
   "outputs": [
    {
     "data": {
      "text/plain": [
       "'c:\\\\Users\\\\ramak\\\\OneDrive\\\\Desktop\\\\P2\\\\Birds_Classification'"
      ]
     },
     "execution_count": 2,
     "metadata": {},
     "output_type": "execute_result"
    }
   ],
   "source": [
    "os.chdir(\"../\")\n",
    "%pwd"
   ]
  },
  {
   "cell_type": "code",
   "execution_count": 3,
   "metadata": {},
   "outputs": [],
   "source": [
    "from dataclasses import dataclass\n",
    "from pathlib import Path\n",
    "\n",
    "@dataclass(frozen = True)\n",
    "class DataIngestionConfig:\n",
    "    root_dir: Path\n",
    "    kaggle_api: Path\n",
    "    local_files_dir: Path\n",
    "    unzip_dir: Path"
   ]
  },
  {
   "cell_type": "code",
   "execution_count": 4,
   "metadata": {},
   "outputs": [
    {
     "name": "stdout",
     "output_type": "stream",
     "text": [
      "True \n",
      " True\n"
     ]
    }
   ],
   "source": [
    "from src.BirdImageClassification.constants import *\n",
    "from src.BirdImageClassification.utils.common import read_yaml, create_directory"
   ]
  },
  {
   "cell_type": "code",
   "execution_count": 5,
   "metadata": {},
   "outputs": [],
   "source": [
    "class ConfigurationManager:\n",
    "    def __init__(self, config_filepath = CONFIG_FILE_PATH, params_filepath = PARAMS_FILE_PATH):\n",
    "        self.config = read_yaml(config_filepath)\n",
    "        self.params = read_yaml(params_filepath)\n",
    "\n",
    "        create_directory([self.config.main_dir])\n",
    "\n",
    "\n",
    "    def get_data_ingestion_config(self) -> DataIngestionConfig:\n",
    "        config = self.config.data_ingestion\n",
    "        create_directory([config.root_dir])\n",
    "\n",
    "        data_ingestion_config = DataIngestionConfig(\n",
    "            root_dir = config.root_dir,\n",
    "            kaggle_api = config.kaggle_api_key,\n",
    "            local_files_dir = config.local_files_dir,\n",
    "            unzip_dir = config.unzip_dir\n",
    "        )\n",
    "\n",
    "        return data_ingestion_config"
   ]
  },
  {
   "cell_type": "code",
   "execution_count": 6,
   "metadata": {},
   "outputs": [],
   "source": [
    "import os\n",
    "import urllib.request as request\n",
    "import zipfile\n",
    "from src.BirdImageClassification import logger\n",
    "from kaggle.api.kaggle_api_extended import KaggleApi"
   ]
  },
  {
   "cell_type": "code",
   "execution_count": 7,
   "metadata": {},
   "outputs": [],
   "source": [
    "class DataIngestion:\n",
    "    def __init__(self, config: DataIngestionConfig):\n",
    "        self.config = config\n",
    "        \n",
    "\n",
    "    def download_file(self):\n",
    "        if not os.path.exists(self.config.local_files_dir):\n",
    "            try:\n",
    "                dataset_name = 'gpiosenka/100-bird-species'\n",
    "                KaggleApi().dataset_download_files(dataset_name, path=self.config.local_files_dir, force = True)\n",
    "                logger.info(\"File downloaded successfully from Kaggle.\")\n",
    "            except Exception as e:\n",
    "                # logger.error(f\"Error downloading file from Kaggle: {e}\")\n",
    "                raise e\n",
    "        else:\n",
    "            logger.info(\"File already exists.\")\n",
    "\n",
    "\n",
    "    def extract_zip_file(self):\n",
    "        unzip_path = self.config.unzip_dir\n",
    "        os.makedirs(unzip_path,exist_ok=True)\n",
    "        filepath = r\"C:\\Users\\ramak\\OneDrive\\Desktop\\P2\\Birds_Classification\\Data\\data.zip\"\n",
    "        logger.info(\"Extracting zip files............\")\n",
    "        # with zipfile.ZipFile(self.config.local_files_dir, 'r') as zip_ref:\n",
    "        #     zip_ref.extractall(unzip_path)\n",
    "        with zipfile.ZipFile(filepath, 'r') as zip_ref:\n",
    "            zip_ref.extractall(unzip_path)\n",
    "\n",
    "        logger.info(\"Zip files extracted successfully......................\")"
   ]
  },
  {
   "cell_type": "code",
   "execution_count": 8,
   "metadata": {},
   "outputs": [
    {
     "name": "stdout",
     "output_type": "stream",
     "text": [
      "[2023-12-21 14:30:15,140: INFO: common: yaml file: C:\\Users\\ramak\\OneDrive\\Desktop\\P2\\Birds_Classification\\config\\config.yaml loaded]\n",
      "[2023-12-21 14:30:15,157: INFO: common: yaml file: C:\\Users\\ramak\\OneDrive\\Desktop\\P2\\Birds_Classification\\params.yaml loaded]\n",
      "[2023-12-21 14:30:15,160: INFO: common: Created directory at: artifacts]\n",
      "[2023-12-21 14:30:15,164: INFO: common: Created directory at: artifacts/data_ingestion]\n"
     ]
    }
   ],
   "source": [
    "try:\n",
    "    config = ConfigurationManager()\n",
    "    data_ingestion_config = config.get_data_ingestion_config()\n",
    "    data_ingestion = DataIngestion(config=data_ingestion_config)\n",
    "    # data_ingestion.download_file()\n",
    "    data_ingestion.extract_zip_file()\n",
    "except Exception as e:\n",
    "    raise e"
   ]
  },
  {
   "cell_type": "code",
   "execution_count": null,
   "metadata": {},
   "outputs": [],
   "source": []
  }
 ],
 "metadata": {
  "kernelspec": {
   "display_name": "base",
   "language": "python",
   "name": "python3"
  },
  "language_info": {
   "codemirror_mode": {
    "name": "ipython",
    "version": 3
   },
   "file_extension": ".py",
   "mimetype": "text/x-python",
   "name": "python",
   "nbconvert_exporter": "python",
   "pygments_lexer": "ipython3",
   "version": "3.11.5"
  }
 },
 "nbformat": 4,
 "nbformat_minor": 2
}
