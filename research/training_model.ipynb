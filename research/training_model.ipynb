{
 "cells": [
  {
   "cell_type": "code",
   "execution_count": 1,
   "metadata": {},
   "outputs": [],
   "source": [
    "import os"
   ]
  },
  {
   "cell_type": "code",
   "execution_count": 2,
   "metadata": {},
   "outputs": [
    {
     "data": {
      "text/plain": [
       "'c:\\\\Users\\\\ramak\\\\OneDrive\\\\Desktop\\\\P2\\\\Birds_Classification'"
      ]
     },
     "execution_count": 2,
     "metadata": {},
     "output_type": "execute_result"
    }
   ],
   "source": [
    "os.chdir(\"../\")\n",
    "%pwd"
   ]
  },
  {
   "cell_type": "code",
   "execution_count": 3,
   "metadata": {},
   "outputs": [],
   "source": [
    "from dataclasses import dataclass\n",
    "from pathlib import Path\n",
    "\n",
    "@dataclass(frozen = True)\n",
    "class TrainingModelConfig:\n",
    "    root_dir: Path\n",
    "    trained_model_dir: Path\n",
    "    train_data: Path\n",
    "    test_data: Path\n",
    "    validation_data: Path\n",
    "    epochs: int\n",
    "    batch_size: int\n",
    "    saved_model_dir: Path\n",
    "    input_shape: int"
   ]
  },
  {
   "cell_type": "code",
   "execution_count": 4,
   "metadata": {},
   "outputs": [
    {
     "name": "stdout",
     "output_type": "stream",
     "text": [
      "True \n",
      " True\n"
     ]
    }
   ],
   "source": [
    "from src.BirdImageClassification.constants import *\n",
    "from src.BirdImageClassification.utils.common import read_yaml,create_directory, save_json\n",
    "from src.BirdImageClassification import logger"
   ]
  },
  {
   "cell_type": "code",
   "execution_count": 5,
   "metadata": {},
   "outputs": [],
   "source": [
    "class ConfigurationManager:\n",
    "    def __init__(self, config_path = CONFIG_FILE_PATH, params_path = PARAMS_FILE_PATH):\n",
    "        self.config = read_yaml(config_path)\n",
    "        self.params = read_yaml(params_path)\n",
    "\n",
    "        create_directory([self.config.main_dir])\n",
    "\n",
    "    def training_config(self) -> TrainingModelConfig:\n",
    "        config = self.config.training_model\n",
    "        create_directory([config.root_dir])\n",
    "\n",
    "        prepare_training_model = TrainingModelConfig(\n",
    "            root_dir= Path(config.root_dir),\n",
    "            trained_model_dir= Path(config.trained_model_dir),\n",
    "            saved_model_dir= Path(config.saved_model_dir),\n",
    "            train_data= Path(config.train_data),\n",
    "            validation_data= Path(config.validation_data),\n",
    "            test_data= Path(config.test_data),\n",
    "            batch_size= self.params.BATCH_SIZE,\n",
    "            epochs= self.params.EPOCHS,\n",
    "            input_shape= self.params.INPUT_SHAPE\n",
    "        )\n",
    "\n",
    "        return prepare_training_model"
   ]
  },
  {
   "cell_type": "code",
   "execution_count": 6,
   "metadata": {},
   "outputs": [
    {
     "name": "stdout",
     "output_type": "stream",
     "text": [
      "[2023-12-22 12:18:30,893: INFO: utils: NumExpr defaulting to 8 threads.]\n"
     ]
    }
   ],
   "source": [
    "import tensorflow as tf\n",
    "from tensorflow.keras.callbacks import EarlyStopping\n",
    "from tensorflow.keras.preprocessing.image import ImageDataGenerator\n"
   ]
  },
  {
   "cell_type": "code",
   "execution_count": 7,
   "metadata": {},
   "outputs": [],
   "source": [
    "class TrainingModel:\n",
    "    def __init__(self, config = TrainingModelConfig):\n",
    "        self.config = config\n",
    "\n",
    "    def load_model(self):\n",
    "        self.model = tf.keras.models.load_model(self.config.saved_model_dir)\n",
    "\n",
    "    \n",
    "    def prepare_training_model(self):\n",
    "        early_stopping = EarlyStopping(monitor='val_loss', patience=15, restore_best_weights=True)\n",
    "\n",
    "        train_datagen = ImageDataGenerator(\n",
    "            rescale=1./255,\n",
    "            rotation_range=30,\n",
    "            width_shift_range=0.2,\n",
    "            height_shift_range=0.2,\n",
    "            shear_range=0.2,\n",
    "            zoom_range=0.2,\n",
    "            horizontal_flip=True,\n",
    "            fill_mode='nearest'\n",
    "        )\n",
    "\n",
    "        validation_datagen = ImageDataGenerator(rescale=1./255)\n",
    "        test_datagen = ImageDataGenerator(rescale=1./255)\n",
    "\n",
    "        train_generator = train_datagen.flow_from_directory(self.config.train_data,\n",
    "                                                            target_size = (self.config.input_shape, self.config.input_shape),\n",
    "                                                            batch_size = self.config.batch_size,\n",
    "                                                            class_mode = 'categorical')\n",
    "        \n",
    "        validation_generator = validation_datagen.flow_from_directory(self.config.validation_data,\n",
    "                                                            target_size = (self.config.input_shape, self.config.input_shape),\n",
    "                                                            batch_size = self.config.batch_size,\n",
    "                                                            class_mode = 'categorical')\n",
    "        \n",
    "        test_generator = test_datagen.flow_from_directory(self.config.test_data,\n",
    "                                                            target_size = (self.config.input_shape, self.config.input_shape),\n",
    "                                                            batch_size = self.config.batch_size,\n",
    "                                                            class_mode = 'categorical')\n",
    "        \n",
    "\n",
    "        self.model.fit(train_generator,\n",
    "                       epochs = self.config.epochs,\n",
    "                    #    steps_per_epoch = len(train_generator),\n",
    "                       validation_data = validation_generator,\n",
    "                    #    validation_steps = len(validation_generator) * 0.25,\n",
    "                       verbose = 1,\n",
    "                       callbacks = [early_stopping])\n",
    "        \n",
    "\n",
    "        scores = self.model.evaluate(\n",
    "                                        validation_generator,\n",
    "                                        batch_size=self.config.batch_size\n",
    "                                    )\n",
    "\n",
    "        score = {\"loss\": scores[0], \"accuracy\": scores[1]}\n",
    "        save_json(path=Path(\"scores.json\"), data=score)\n",
    "\n",
    "        self.save_model(path=self.config.trained_model_dir, model=self.model)\n",
    "\n",
    "    \n",
    "    @staticmethod\n",
    "    def save_model(path: Path, model: tf.keras.Model):\n",
    "        model.save(path)\n"
   ]
  },
  {
   "cell_type": "code",
   "execution_count": 8,
   "metadata": {},
   "outputs": [
    {
     "name": "stdout",
     "output_type": "stream",
     "text": [
      "[2023-12-22 12:18:32,784: INFO: common: yaml file: C:\\Users\\ramak\\OneDrive\\Desktop\\P2\\Birds_Classification\\config\\config.yaml loaded]\n",
      "[2023-12-22 12:18:32,784: INFO: common: yaml file: C:\\Users\\ramak\\OneDrive\\Desktop\\P2\\Birds_Classification\\params.yaml loaded]\n",
      "[2023-12-22 12:18:32,784: INFO: common: Created directory at: artifacts]\n",
      "[2023-12-22 12:18:32,784: INFO: common: Created directory at: artifacts/training_model]\n",
      "Found 84635 images belonging to 525 classes.\n",
      "Found 2625 images belonging to 525 classes.\n",
      "Found 2625 images belonging to 525 classes.\n",
      "Epoch 1/5\n",
      "2645/2645 [==============================] - 2531s 954ms/step - loss: 3.4082 - accuracy: 0.2737 - val_loss: 1.8118 - val_accuracy: 0.5326\n",
      "Epoch 2/5\n",
      "2645/2645 [==============================] - 2454s 928ms/step - loss: 2.7560 - accuracy: 0.3715 - val_loss: 1.4718 - val_accuracy: 0.6213\n",
      "Epoch 3/5\n",
      "2645/2645 [==============================] - 2326s 879ms/step - loss: 2.6098 - accuracy: 0.4009 - val_loss: 1.3338 - val_accuracy: 0.6583\n",
      "Epoch 4/5\n",
      "2645/2645 [==============================] - 2122s 802ms/step - loss: 2.5295 - accuracy: 0.4191 - val_loss: 1.2823 - val_accuracy: 0.6636\n",
      "Epoch 5/5\n",
      "2645/2645 [==============================] - 2696s 1s/step - loss: 2.4698 - accuracy: 0.4308 - val_loss: 1.1951 - val_accuracy: 0.6830\n",
      "83/83 [==============================] - 58s 698ms/step - loss: 1.1951 - accuracy: 0.6830\n",
      "[2023-12-22 15:41:57,507: INFO: common: json file saved at: scores.json]\n"
     ]
    },
    {
     "name": "stderr",
     "output_type": "stream",
     "text": [
      "C:\\Users\\ramak\\AppData\\Roaming\\Python\\Python311\\site-packages\\keras\\src\\engine\\training.py:3079: UserWarning: You are saving your model as an HDF5 file via `model.save()`. This file format is considered legacy. We recommend using instead the native Keras format, e.g. `model.save('my_model.keras')`.\n",
      "  saving_api.save_model(\n"
     ]
    }
   ],
   "source": [
    "try:\n",
    "    config_manager = ConfigurationManager()  # Create an instance of ConfigurationManager\n",
    "    training_config = config_manager.training_config()\n",
    "    training = TrainingModel(config = training_config)\n",
    "    training.load_model()\n",
    "    # training.data_preparation()\n",
    "    training.prepare_training_model()\n",
    "    \n",
    "except Exception as e:\n",
    "    raise e"
   ]
  },
  {
   "cell_type": "code",
   "execution_count": null,
   "metadata": {},
   "outputs": [],
   "source": []
  }
 ],
 "metadata": {
  "kernelspec": {
   "display_name": "base",
   "language": "python",
   "name": "python3"
  },
  "language_info": {
   "codemirror_mode": {
    "name": "ipython",
    "version": 3
   },
   "file_extension": ".py",
   "mimetype": "text/x-python",
   "name": "python",
   "nbconvert_exporter": "python",
   "pygments_lexer": "ipython3",
   "version": "3.11.5"
  }
 },
 "nbformat": 4,
 "nbformat_minor": 2
}
